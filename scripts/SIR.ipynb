{
 "cells": [
  {
   "cell_type": "code",
   "execution_count": null,
   "metadata": {},
   "outputs": [],
   "source": [
    "import matplotlib\n",
    "import matplotlib.pyplot as plt\n",
    "\n",
    "import jax\n",
    "import jax.numpy as np\n",
    "from jax.random import PRNGKey\n",
    "\n",
    "import numpyro\n",
    "import numpyro.distributions as dist\n",
    "from numpyro.infer import MCMC, NUTS, Predictive\n",
    "\n",
    "import pandas as pd\n",
    "\n",
    "import covid\n",
    "import covid.util as util\n",
    "from covid.models.SEIRD import SEIRD_stochastic"
   ]
  },
  {
   "cell_type": "markdown",
   "metadata": {},
   "source": [
    "# Run Inference"
   ]
  },
  {
   "cell_type": "code",
   "execution_count": null,
   "metadata": {},
   "outputs": [],
   "source": [
    "data = util.load_state_data()\n",
    "\n",
    "#places = state_data.keys()\n",
    "#places = ['Italy', 'US', 'WA', 'NY', 'MA']\n",
    "#places = ['NY', 'MA', 'WA', 'AK', 'WV']\n",
    "#places = ['US']\n",
    "#places = sorted(['NY', 'WA', 'MA', 'MI', 'AL', 'AR', 'KY'])\n",
    "places = ['SD']\n",
    "\n",
    "save = True\n",
    "for place in places:\n",
    "    util.run_place(data, place, save=save, start='2020-03-15', \n",
    "                   num_warmup=1000, num_samples=1000, num_prior_samples=1000)"
   ]
  },
  {
   "cell_type": "code",
   "execution_count": null,
   "metadata": {
    "scrolled": false
   },
   "outputs": [],
   "source": [
    "data = util.load_state_data()\n",
    "\n",
    "start = '2020-03-15'\n",
    "#places = ['Italy', 'US', 'WA', 'NY', 'MA']\n",
    "#places = ['ID']\n",
    "#places = ['NY']\n",
    "#places = state_data.keys()\n",
    "#places = ['AK']\n",
    "#places = ['US']\n",
    "#places = ['LA', 'NY']\n",
    "#places = ['NY', 'MA', 'WA', 'AK', 'WV']\n",
    "#places = ['CO']\n",
    "#places = ['NY', 'WA', 'MA']\n",
    "#places = sorted(['NY', 'WA', 'MA', 'MI', 'AL', 'AR', 'KY'])\n",
    "places = ['SD']\n",
    "\n",
    "save = True\n",
    "\n",
    "\n",
    "# Inspect and Save Results \n",
    "for place in places:\n",
    "    util.gen_forecasts(data, place, start=start, save=save, daily=False)"
   ]
  }
 ],
 "metadata": {
  "kernelspec": {
   "display_name": "Python 3",
   "language": "python",
   "name": "python3"
  },
  "language_info": {
   "codemirror_mode": {
    "name": "ipython",
    "version": 3
   },
   "file_extension": ".py",
   "mimetype": "text/x-python",
   "name": "python",
   "nbconvert_exporter": "python",
   "pygments_lexer": "ipython3",
   "version": "3.7.4"
  }
 },
 "nbformat": 4,
 "nbformat_minor": 2
}
